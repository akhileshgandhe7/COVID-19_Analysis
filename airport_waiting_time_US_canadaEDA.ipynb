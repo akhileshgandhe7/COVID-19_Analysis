{
 "cells": [
  {
   "cell_type": "code",
   "execution_count": 212,
   "metadata": {},
   "outputs": [],
   "source": [
    "import pandas as pd\n",
    "import numpy as np\n",
    "import matplotlib.pyplot as plt\n",
    "\n",
    "import seaborn as sns\n",
    "%matplotlib inline"
   ]
  },
  {
   "cell_type": "code",
   "execution_count": 213,
   "metadata": {},
   "outputs": [],
   "source": [
    "df = pd.read_csv('border-wait-times-at-us-canada-border.csv')"
   ]
  },
  {
   "cell_type": "code",
   "execution_count": 214,
   "metadata": {},
   "outputs": [
    {
     "data": {
      "text/plain": [
       "(100817, 19)"
      ]
     },
     "execution_count": 214,
     "metadata": {},
     "output_type": "execute_result"
    }
   ],
   "source": [
    "df.shape"
   ]
  },
  {
   "cell_type": "code",
   "execution_count": 215,
   "metadata": {},
   "outputs": [
    {
     "data": {
      "text/plain": [
       "Index(['borderid', 'canadaport', 'americaport', 'tripdirection', 'localhour',\n",
       "       'localdate', 'daytype', 'utc_date', 'utc_hour', 'averageduration',\n",
       "       'aggregationmethod', 'canadaborderzone', 'can_iso_3166_2',\n",
       "       'americaborderzone', 'us_iso_3166_2', 'borderlatitude',\n",
       "       'borderlongitude', 'bordergeohash', 'version'],\n",
       "      dtype='object')"
      ]
     },
     "execution_count": 215,
     "metadata": {},
     "output_type": "execute_result"
    }
   ],
   "source": [
    "df.columns"
   ]
  },
  {
   "cell_type": "code",
   "execution_count": 216,
   "metadata": {},
   "outputs": [
    {
     "name": "stdout",
     "output_type": "stream",
     "text": [
      "<class 'pandas.core.frame.DataFrame'>\n",
      "RangeIndex: 100817 entries, 0 to 100816\n",
      "Data columns (total 19 columns):\n",
      "borderid             100817 non-null int64\n",
      "canadaport           100817 non-null object\n",
      "americaport          100817 non-null object\n",
      "tripdirection        100817 non-null object\n",
      "localhour            100817 non-null int64\n",
      "localdate            100817 non-null object\n",
      "daytype              100817 non-null object\n",
      "utc_date             100817 non-null object\n",
      "utc_hour             100817 non-null int64\n",
      "averageduration      100817 non-null float64\n",
      "aggregationmethod    100817 non-null object\n",
      "canadaborderzone     100817 non-null object\n",
      "can_iso_3166_2       100817 non-null object\n",
      "americaborderzone    100817 non-null object\n",
      "us_iso_3166_2        100817 non-null object\n",
      "borderlatitude       100817 non-null float64\n",
      "borderlongitude      100817 non-null float64\n",
      "bordergeohash        100817 non-null object\n",
      "version              100817 non-null int64\n",
      "dtypes: float64(3), int64(4), object(12)\n",
      "memory usage: 14.6+ MB\n"
     ]
    }
   ],
   "source": [
    "df.info()"
   ]
  },
  {
   "cell_type": "code",
   "execution_count": 217,
   "metadata": {},
   "outputs": [
    {
     "data": {
      "text/plain": [
       "borderid             0\n",
       "canadaport           0\n",
       "americaport          0\n",
       "tripdirection        0\n",
       "localhour            0\n",
       "localdate            0\n",
       "daytype              0\n",
       "utc_date             0\n",
       "utc_hour             0\n",
       "averageduration      0\n",
       "aggregationmethod    0\n",
       "canadaborderzone     0\n",
       "can_iso_3166_2       0\n",
       "americaborderzone    0\n",
       "us_iso_3166_2        0\n",
       "borderlatitude       0\n",
       "borderlongitude      0\n",
       "bordergeohash        0\n",
       "version              0\n",
       "dtype: int64"
      ]
     },
     "execution_count": 217,
     "metadata": {},
     "output_type": "execute_result"
    }
   ],
   "source": [
    "df.isnull().sum()"
   ]
  },
  {
   "cell_type": "code",
   "execution_count": 218,
   "metadata": {},
   "outputs": [
    {
     "data": {
      "text/html": [
       "<div>\n",
       "<style scoped>\n",
       "    .dataframe tbody tr th:only-of-type {\n",
       "        vertical-align: middle;\n",
       "    }\n",
       "\n",
       "    .dataframe tbody tr th {\n",
       "        vertical-align: top;\n",
       "    }\n",
       "\n",
       "    .dataframe thead th {\n",
       "        text-align: right;\n",
       "    }\n",
       "</style>\n",
       "<table border=\"1\" class=\"dataframe\">\n",
       "  <thead>\n",
       "    <tr style=\"text-align: right;\">\n",
       "      <th></th>\n",
       "      <th>borderid</th>\n",
       "      <th>canadaport</th>\n",
       "      <th>americaport</th>\n",
       "      <th>tripdirection</th>\n",
       "      <th>localhour</th>\n",
       "      <th>localdate</th>\n",
       "      <th>daytype</th>\n",
       "      <th>utc_date</th>\n",
       "      <th>utc_hour</th>\n",
       "      <th>averageduration</th>\n",
       "      <th>aggregationmethod</th>\n",
       "      <th>canadaborderzone</th>\n",
       "      <th>can_iso_3166_2</th>\n",
       "      <th>americaborderzone</th>\n",
       "      <th>us_iso_3166_2</th>\n",
       "      <th>borderlatitude</th>\n",
       "      <th>borderlongitude</th>\n",
       "      <th>bordergeohash</th>\n",
       "      <th>version</th>\n",
       "    </tr>\n",
       "  </thead>\n",
       "  <tbody>\n",
       "    <tr>\n",
       "      <td>0</td>\n",
       "      <td>8</td>\n",
       "      <td>Kingsgate</td>\n",
       "      <td>Eastport</td>\n",
       "      <td>US to Canada</td>\n",
       "      <td>6</td>\n",
       "      <td>2020-01-01</td>\n",
       "      <td>Weekdays</td>\n",
       "      <td>2020-01-01</td>\n",
       "      <td>13</td>\n",
       "      <td>2.94</td>\n",
       "      <td>Yearly Average</td>\n",
       "      <td>POLYGON ((-116.181846857 49.002442186, -116.18...</td>\n",
       "      <td>CA-BC</td>\n",
       "      <td>POLYGON ((-116.182157993 49.0004573163, -116.1...</td>\n",
       "      <td>US-ID</td>\n",
       "      <td>49.001</td>\n",
       "      <td>-116.181</td>\n",
       "      <td>c2tqu0r</td>\n",
       "      <td>1</td>\n",
       "    </tr>\n",
       "    <tr>\n",
       "      <td>1</td>\n",
       "      <td>8</td>\n",
       "      <td>Kingsgate</td>\n",
       "      <td>Eastport</td>\n",
       "      <td>Canada to US</td>\n",
       "      <td>16</td>\n",
       "      <td>2020-01-01</td>\n",
       "      <td>Weekdays</td>\n",
       "      <td>2020-01-01</td>\n",
       "      <td>23</td>\n",
       "      <td>5.26</td>\n",
       "      <td>Monthly Average</td>\n",
       "      <td>POLYGON ((-116.181846857 49.002442186, -116.18...</td>\n",
       "      <td>CA-BC</td>\n",
       "      <td>POLYGON ((-116.182157993 49.0004573163, -116.1...</td>\n",
       "      <td>US-ID</td>\n",
       "      <td>49.001</td>\n",
       "      <td>-116.181</td>\n",
       "      <td>c2tqu0r</td>\n",
       "      <td>1</td>\n",
       "    </tr>\n",
       "    <tr>\n",
       "      <td>2</td>\n",
       "      <td>8</td>\n",
       "      <td>Kingsgate</td>\n",
       "      <td>Eastport</td>\n",
       "      <td>US to Canada</td>\n",
       "      <td>7</td>\n",
       "      <td>2020-01-01</td>\n",
       "      <td>Weekdays</td>\n",
       "      <td>2020-01-01</td>\n",
       "      <td>14</td>\n",
       "      <td>3.85</td>\n",
       "      <td>Yearly Average</td>\n",
       "      <td>POLYGON ((-116.181846857 49.002442186, -116.18...</td>\n",
       "      <td>CA-BC</td>\n",
       "      <td>POLYGON ((-116.182157993 49.0004573163, -116.1...</td>\n",
       "      <td>US-ID</td>\n",
       "      <td>49.001</td>\n",
       "      <td>-116.181</td>\n",
       "      <td>c2tqu0r</td>\n",
       "      <td>1</td>\n",
       "    </tr>\n",
       "  </tbody>\n",
       "</table>\n",
       "</div>"
      ],
      "text/plain": [
       "   borderid canadaport americaport tripdirection  localhour   localdate  \\\n",
       "0         8  Kingsgate    Eastport  US to Canada          6  2020-01-01   \n",
       "1         8  Kingsgate    Eastport  Canada to US         16  2020-01-01   \n",
       "2         8  Kingsgate    Eastport  US to Canada          7  2020-01-01   \n",
       "\n",
       "    daytype    utc_date  utc_hour  averageduration aggregationmethod  \\\n",
       "0  Weekdays  2020-01-01        13             2.94    Yearly Average   \n",
       "1  Weekdays  2020-01-01        23             5.26   Monthly Average   \n",
       "2  Weekdays  2020-01-01        14             3.85    Yearly Average   \n",
       "\n",
       "                                    canadaborderzone can_iso_3166_2  \\\n",
       "0  POLYGON ((-116.181846857 49.002442186, -116.18...          CA-BC   \n",
       "1  POLYGON ((-116.181846857 49.002442186, -116.18...          CA-BC   \n",
       "2  POLYGON ((-116.181846857 49.002442186, -116.18...          CA-BC   \n",
       "\n",
       "                                   americaborderzone us_iso_3166_2  \\\n",
       "0  POLYGON ((-116.182157993 49.0004573163, -116.1...         US-ID   \n",
       "1  POLYGON ((-116.182157993 49.0004573163, -116.1...         US-ID   \n",
       "2  POLYGON ((-116.182157993 49.0004573163, -116.1...         US-ID   \n",
       "\n",
       "   borderlatitude  borderlongitude bordergeohash  version  \n",
       "0          49.001         -116.181       c2tqu0r        1  \n",
       "1          49.001         -116.181       c2tqu0r        1  \n",
       "2          49.001         -116.181       c2tqu0r        1  "
      ]
     },
     "execution_count": 218,
     "metadata": {},
     "output_type": "execute_result"
    }
   ],
   "source": [
    "df.head(3)"
   ]
  },
  {
   "cell_type": "code",
   "execution_count": 219,
   "metadata": {},
   "outputs": [
    {
     "data": {
      "text/plain": [
       "(array([  8, 100, 104,  64,  35,  55,  65,  68, 117,  18,  13,  15,  71,\n",
       "         70,  66,  73, 108,  12,  62,  61,  28,  26, 102,  77,  46,  47,\n",
       "         52,  88,  91,  83,  27,  25,  60,  37,  76,  50,  98,  85,  38,\n",
       "        116,  69,  72,  81,  97,  96,  90,  92,  24,  16,  56,  80,  59,\n",
       "         67,   6,  14,  36,  19,  45, 105,  51,  99, 119,  31,  87],\n",
       "       dtype=int64),\n",
       " array(['Kingsgate', 'Lacolle:Route 221', 'Lacolle:Route 223', 'Lansdowne',\n",
       "        'Lyleton', 'Milltown', 'Niagara Falls - Rainbow Bridge',\n",
       "        'Niagara Falls - Whirlpool Rapids Bridge', 'North Portal',\n",
       "        'Osoyoos', 'Pacific Highway', 'Paterson', 'Pigeon River',\n",
       "        'Prescott', 'Queenston', 'Rainy River', 'Regway', 'Roosville',\n",
       "        'Sarnia', 'Sault Ste. Marie', 'South Junction', 'Sprague',\n",
       "        'St-Bernard-de-Lacolle', 'St-Just-de-Bretenières', 'St. Leonard',\n",
       "        'St. Stephen (3rd Bridge)', 'St. Stephen (Ferry Point Bridge)',\n",
       "        'Stanhope', 'Stanstead(55)', 'St–Armand/ Phillipsburg', 'Tolstoi',\n",
       "        'Waneta', 'Windsor - Ambassador Bridge', 'Winkler', 'Woburn',\n",
       "        'Woodstock Road', 'Dundee', 'East Hereford', 'Emerson',\n",
       "        'Estevan Highway', 'Fort Erie', 'Fort Frances', 'Frelighsburg',\n",
       "        'Hemmingford', 'Herdman', 'Hereford Road', 'Highwater',\n",
       "        'Abbotsford-Huntingdon', 'Aldergrove', 'Andover', 'Armstrong',\n",
       "        'Campobello', 'Cornwall', 'Coutts', 'Douglas', 'Boissevain',\n",
       "        'Boundary Bay', 'Centreville', 'Chartierville', 'Clair',\n",
       "        '(closed – was Franklin Centre)', 'Beaver Creek', 'Coulter',\n",
       "        'Stanstead (Beebe)'], dtype=object))"
      ]
     },
     "execution_count": 219,
     "metadata": {},
     "output_type": "execute_result"
    }
   ],
   "source": [
    "df.borderid.unique(),df.canadaport.unique()"
   ]
  },
  {
   "cell_type": "code",
   "execution_count": 325,
   "metadata": {},
   "outputs": [
    {
     "data": {
      "text/plain": [
       "2020-03-19    1235\n",
       "2020-03-20    1235\n",
       "2020-03-13    1234\n",
       "2020-03-18    1234\n",
       "2020-03-25    1233\n",
       "              ... \n",
       "2020-02-09     700\n",
       "2020-01-12     699\n",
       "2020-01-26     699\n",
       "2020-01-05     698\n",
       "2020-02-02     697\n",
       "Name: utc_date, Length: 94, dtype: int64"
      ]
     },
     "execution_count": 325,
     "metadata": {},
     "output_type": "execute_result"
    }
   ],
   "source": [
    "df.utc_date.value_counts()"
   ]
  },
  {
   "cell_type": "code",
   "execution_count": 220,
   "metadata": {},
   "outputs": [],
   "source": [
    "# not needed columns\n",
    "# borderid, version\n",
    "#"
   ]
  },
  {
   "cell_type": "code",
   "execution_count": 221,
   "metadata": {},
   "outputs": [
    {
     "data": {
      "text/plain": [
       "(64, 94)"
      ]
     },
     "execution_count": 221,
     "metadata": {},
     "output_type": "execute_result"
    }
   ],
   "source": [
    "df.americaport.nunique(),df.localdate.nunique()"
   ]
  },
  {
   "cell_type": "code",
   "execution_count": 222,
   "metadata": {},
   "outputs": [
    {
     "data": {
      "text/plain": [
       "2"
      ]
     },
     "execution_count": 222,
     "metadata": {},
     "output_type": "execute_result"
    }
   ],
   "source": [
    "df.tripdirection.nunique()"
   ]
  },
  {
   "cell_type": "code",
   "execution_count": 223,
   "metadata": {},
   "outputs": [
    {
     "data": {
      "text/plain": [
       "array(['Weekdays', 'Weekends'], dtype=object)"
      ]
     },
     "execution_count": 223,
     "metadata": {},
     "output_type": "execute_result"
    }
   ],
   "source": [
    "df.daytype.unique()"
   ]
  },
  {
   "cell_type": "code",
   "execution_count": 224,
   "metadata": {},
   "outputs": [
    {
     "data": {
      "text/plain": [
       "8"
      ]
     },
     "execution_count": 224,
     "metadata": {},
     "output_type": "execute_result"
    }
   ],
   "source": [
    "df.can_iso_3166_2.nunique()"
   ]
  },
  {
   "cell_type": "code",
   "execution_count": 391,
   "metadata": {},
   "outputs": [
    {
     "name": "stderr",
     "output_type": "stream",
     "text": [
      "C:\\Users\\Akhilesh\\Anaconda3\\lib\\site-packages\\ipykernel_launcher.py:1: FutureWarning: `Series.plot()` should not be called with positional arguments, only keyword arguments. The order of positional arguments will change in the future. Use `Series.plot(kind='pie')` instead of `Series.plot('pie',)`.\n",
      "  \"\"\"Entry point for launching an IPython kernel.\n"
     ]
    },
    {
     "data": {
      "text/plain": [
       "<matplotlib.axes._subplots.AxesSubplot at 0x19a01237fc8>"
      ]
     },
     "execution_count": 391,
     "metadata": {},
     "output_type": "execute_result"
    },
    {
     "data": {
      "image/png": "[encoded data removed]",
      "text/plain": [
       "<Figure size 432x288 with 1 Axes>"
      ]
     },
     "metadata": {},
     "output_type": "display_data"
    }
   ],
   "source": [
    "df.daytype.value_counts().plot('pie')"
   ]
  },
  {
   "cell_type": "code",
   "execution_count": 466,
   "metadata": {},
   "outputs": [
    {
     "data": {
      "text/plain": [
       "daytype\n",
       "Weekdays    6.820263\n",
       "Weekends    7.969908\n",
       "Name: averageduration, dtype: float64"
      ]
     },
     "execution_count": 466,
     "metadata": {},
     "output_type": "execute_result"
    }
   ],
   "source": [
    "ax = df.groupby('daytype')['averageduration'].agg(np.mean)\n",
    "ax"
   ]
  },
  {
   "cell_type": "code",
   "execution_count": 519,
   "metadata": {},
   "outputs": [
    {
     "data": {
      "text/plain": [
       "Text(0.5, 1.0, 'Total number of people travelled')"
      ]
     },
     "execution_count": 519,
     "metadata": {},
     "output_type": "execute_result"
    },
    {
     "data": {
      "image/png": "[encoded data removed]",
      "text/plain": [
       "<Figure size 432x288 with 1 Axes>"
      ]
     },
     "metadata": {
      "needs_background": "light"
     },
     "output_type": "display_data"
    }
   ],
   "source": [
    "# ax = df.groupby('tripdirection','daytype')['averageduration'].agg(np.mean)\n",
    "# ax\n",
    "sns.countplot(x = \"tripdirection\", hue = \"daytype\", data = df).set_title('Total number of people travelled')"
   ]
  },
  {
   "cell_type": "code",
   "execution_count": 468,
   "metadata": {},
   "outputs": [],
   "source": [
    "def fun(time):\n",
    "    if time < 3:\n",
    "        return \"Below3_Hr\"\n",
    "    elif 3 <= time < 5:\n",
    "        return \"Between_3_to_5Hr\"\n",
    "    else:\n",
    "        return \"Morethan_5Hr\"\n",
    "\n",
    "df['timetaken'] = df.averageduration.apply(lambda x: fun(x))"
   ]
  },
  {
   "cell_type": "code",
   "execution_count": 517,
   "metadata": {},
   "outputs": [
    {
     "data": {
      "text/plain": [
       "<matplotlib.axes._subplots.AxesSubplot at 0x19a0f6c7808>"
      ]
     },
     "execution_count": 517,
     "metadata": {},
     "output_type": "execute_result"
    },
    {
     "data": {
      "image/png": "[encoded data removed]",
      "text/plain": [
       "<Figure size 432x288 with 1 Axes>"
      ]
     },
     "metadata": {
      "needs_background": "light"
     },
     "output_type": "display_data"
    }
   ],
   "source": [
    "ax.plot.bar(title='Average time duration')"
   ]
  },
  {
   "cell_type": "code",
   "execution_count": 230,
   "metadata": {},
   "outputs": [
    {
     "data": {
      "text/plain": [
       "(61460, 20)"
      ]
     },
     "execution_count": 230,
     "metadata": {},
     "output_type": "execute_result"
    }
   ],
   "source": [
    "df_avg4 = df[df['averageduration'] >5]\n",
    "df_avg4.shape"
   ]
  },
  {
   "cell_type": "code",
   "execution_count": 231,
   "metadata": {},
   "outputs": [
    {
     "data": {
      "text/plain": [
       "daytype\n",
       "Weekdays    433075.41\n",
       "Weekends    126793.09\n",
       "Name: averageduration, dtype: float64"
      ]
     },
     "execution_count": 231,
     "metadata": {},
     "output_type": "execute_result"
    }
   ],
   "source": [
    "ax = df_avg4.groupby('daytype')['averageduration'].sum()\n",
    "ax"
   ]
  },
  {
   "cell_type": "code",
   "execution_count": 232,
   "metadata": {},
   "outputs": [
    {
     "data": {
      "text/plain": [
       "daytype   timetaken       \n",
       "Weekdays  Morethan_5Hr        48002\n",
       "          Between_3_to_5Hr    27691\n",
       "          Below3_Hr            6767\n",
       "Weekends  Morethan_5Hr        13653\n",
       "          Between_3_to_5Hr     4512\n",
       "          Below3_Hr             192\n",
       "Name: timetaken, dtype: int64"
      ]
     },
     "execution_count": 232,
     "metadata": {},
     "output_type": "execute_result"
    }
   ],
   "source": [
    "ax = df.groupby(['daytype'])['timetaken'].value_counts()\n",
    "ax"
   ]
  },
  {
   "cell_type": "code",
   "execution_count": 398,
   "metadata": {},
   "outputs": [
    {
     "data": {
      "text/plain": [
       "<matplotlib.axes._subplots.AxesSubplot at 0x19a04ca0d88>"
      ]
     },
     "execution_count": 398,
     "metadata": {},
     "output_type": "execute_result"
    },
    {
     "data": {
      "image/png": "[encoded data removed]",
      "text/plain": [
       "<Figure size 432x288 with 1 Axes>"
      ]
     },
     "metadata": {
      "needs_background": "light"
     },
     "output_type": "display_data"
    }
   ],
   "source": [
    "ax.unstack().plot(kind='bar')"
   ]
  },
  {
   "cell_type": "code",
   "execution_count": 521,
   "metadata": {},
   "outputs": [
    {
     "data": {
      "text/plain": [
       "<matplotlib.axes._subplots.AxesSubplot at 0x19a0fadeb48>"
      ]
     },
     "execution_count": 521,
     "metadata": {},
     "output_type": "execute_result"
    },
    {
     "data": {
      "text/plain": [
       "<Figure size 720x720 with 0 Axes>"
      ]
     },
     "metadata": {},
     "output_type": "display_data"
    },
    {
     "data": {
      "image/png": "[encoded data removed]",
      "text/plain": [
       "<Figure size 432x432 with 1 Axes>"
      ]
     },
     "metadata": {
      "needs_background": "light"
     },
     "output_type": "display_data"
    }
   ],
   "source": [
    "freq_df = df.groupby(['timetaken'])['daytype'].value_counts().unstack(0)\n",
    "plt.figure(figsize=(10,10))\n",
    "pct_df = freq_df.divide(freq_df.sum(axis=1), axis=0)\n",
    "pct_df = pct_df.mul(100)\n",
    "pct_df.plot(kind=\"bar\", stacked=False,figsize=(6,6),rot=0,title='Time taken at weekdays & weekends')"
   ]
  },
  {
   "cell_type": "code",
   "execution_count": 235,
   "metadata": {},
   "outputs": [
    {
     "data": {
      "text/plain": [
       "2"
      ]
     },
     "execution_count": 235,
     "metadata": {},
     "output_type": "execute_result"
    }
   ],
   "source": [
    "#df = df.sample(100)\n",
    "df.daytype.nunique()"
   ]
  },
  {
   "cell_type": "code",
   "execution_count": 236,
   "metadata": {},
   "outputs": [
    {
     "data": {
      "text/plain": [
       "array([ 6, 16,  7, 17,  9, 21, 10, 11, 12, 13, 14, 15, 23, 18, 19, 20,  8,\n",
       "        1, 22,  2,  3,  0,  5,  4], dtype=int64)"
      ]
     },
     "execution_count": 236,
     "metadata": {},
     "output_type": "execute_result"
    }
   ],
   "source": [
    "df.localhour.unique()"
   ]
  },
  {
   "cell_type": "code",
   "execution_count": 237,
   "metadata": {},
   "outputs": [],
   "source": [
    "def hour(x):\n",
    "    if 0<= x < 5:\n",
    "        return 'Midnight'\n",
    "    elif 5<= x < 12:\n",
    "        return 'Morning'\n",
    "    elif 12 <= x < 17:\n",
    "        return 'Afternoon'\n",
    "    elif 17 <=x <= 24:\n",
    "        return 'Evening'\n",
    "df['whattime_day'] = df.utc_hour.apply(lambda x: hour(x))"
   ]
  },
  {
   "cell_type": "code",
   "execution_count": 444,
   "metadata": {},
   "outputs": [
    {
     "data": {
      "text/html": [
       "<div>\n",
       "<style scoped>\n",
       "    .dataframe tbody tr th:only-of-type {\n",
       "        vertical-align: middle;\n",
       "    }\n",
       "\n",
       "    .dataframe tbody tr th {\n",
       "        vertical-align: top;\n",
       "    }\n",
       "\n",
       "    .dataframe thead th {\n",
       "        text-align: right;\n",
       "    }\n",
       "</style>\n",
       "<table border=\"1\" class=\"dataframe\">\n",
       "  <thead>\n",
       "    <tr style=\"text-align: right;\">\n",
       "      <th></th>\n",
       "      <th>borderid</th>\n",
       "      <th>canadaport</th>\n",
       "      <th>americaport</th>\n",
       "      <th>tripdirection</th>\n",
       "      <th>localhour</th>\n",
       "      <th>localdate</th>\n",
       "      <th>daytype</th>\n",
       "      <th>utc_date</th>\n",
       "      <th>utc_hour</th>\n",
       "      <th>averageduration</th>\n",
       "      <th>...</th>\n",
       "      <th>can_iso_3166_2</th>\n",
       "      <th>americaborderzone</th>\n",
       "      <th>us_iso_3166_2</th>\n",
       "      <th>borderlatitude</th>\n",
       "      <th>borderlongitude</th>\n",
       "      <th>bordergeohash</th>\n",
       "      <th>version</th>\n",
       "      <th>timetaken</th>\n",
       "      <th>whattime_day</th>\n",
       "      <th>month</th>\n",
       "    </tr>\n",
       "  </thead>\n",
       "  <tbody>\n",
       "    <tr>\n",
       "      <td>0</td>\n",
       "      <td>8</td>\n",
       "      <td>Kingsgate</td>\n",
       "      <td>Eastport</td>\n",
       "      <td>US to Canada</td>\n",
       "      <td>6</td>\n",
       "      <td>2020-01-01</td>\n",
       "      <td>Weekdays</td>\n",
       "      <td>2020-01-01</td>\n",
       "      <td>13</td>\n",
       "      <td>2.94</td>\n",
       "      <td>...</td>\n",
       "      <td>CA-BC</td>\n",
       "      <td>POLYGON ((-116.182157993 49.0004573163, -116.1...</td>\n",
       "      <td>US-ID</td>\n",
       "      <td>49.001</td>\n",
       "      <td>-116.181</td>\n",
       "      <td>c2tqu0r</td>\n",
       "      <td>1</td>\n",
       "      <td>Below3_Hr</td>\n",
       "      <td>Afternoon</td>\n",
       "      <td>Jan</td>\n",
       "    </tr>\n",
       "    <tr>\n",
       "      <td>1</td>\n",
       "      <td>8</td>\n",
       "      <td>Kingsgate</td>\n",
       "      <td>Eastport</td>\n",
       "      <td>Canada to US</td>\n",
       "      <td>16</td>\n",
       "      <td>2020-01-01</td>\n",
       "      <td>Weekdays</td>\n",
       "      <td>2020-01-01</td>\n",
       "      <td>23</td>\n",
       "      <td>5.26</td>\n",
       "      <td>...</td>\n",
       "      <td>CA-BC</td>\n",
       "      <td>POLYGON ((-116.182157993 49.0004573163, -116.1...</td>\n",
       "      <td>US-ID</td>\n",
       "      <td>49.001</td>\n",
       "      <td>-116.181</td>\n",
       "      <td>c2tqu0r</td>\n",
       "      <td>1</td>\n",
       "      <td>Morethan_5Hr</td>\n",
       "      <td>Evening</td>\n",
       "      <td>Jan</td>\n",
       "    </tr>\n",
       "    <tr>\n",
       "      <td>2</td>\n",
       "      <td>8</td>\n",
       "      <td>Kingsgate</td>\n",
       "      <td>Eastport</td>\n",
       "      <td>US to Canada</td>\n",
       "      <td>7</td>\n",
       "      <td>2020-01-01</td>\n",
       "      <td>Weekdays</td>\n",
       "      <td>2020-01-01</td>\n",
       "      <td>14</td>\n",
       "      <td>3.85</td>\n",
       "      <td>...</td>\n",
       "      <td>CA-BC</td>\n",
       "      <td>POLYGON ((-116.182157993 49.0004573163, -116.1...</td>\n",
       "      <td>US-ID</td>\n",
       "      <td>49.001</td>\n",
       "      <td>-116.181</td>\n",
       "      <td>c2tqu0r</td>\n",
       "      <td>1</td>\n",
       "      <td>Between_3_to_5Hr</td>\n",
       "      <td>Afternoon</td>\n",
       "      <td>Jan</td>\n",
       "    </tr>\n",
       "  </tbody>\n",
       "</table>\n",
       "<p>3 rows × 22 columns</p>\n",
       "</div>"
      ],
      "text/plain": [
       "   borderid canadaport americaport tripdirection  localhour   localdate  \\\n",
       "0         8  Kingsgate    Eastport  US to Canada          6  2020-01-01   \n",
       "1         8  Kingsgate    Eastport  Canada to US         16  2020-01-01   \n",
       "2         8  Kingsgate    Eastport  US to Canada          7  2020-01-01   \n",
       "\n",
       "    daytype    utc_date  utc_hour  averageduration  ... can_iso_3166_2  \\\n",
       "0  Weekdays  2020-01-01        13             2.94  ...          CA-BC   \n",
       "1  Weekdays  2020-01-01        23             5.26  ...          CA-BC   \n",
       "2  Weekdays  2020-01-01        14             3.85  ...          CA-BC   \n",
       "\n",
       "                                   americaborderzone us_iso_3166_2  \\\n",
       "0  POLYGON ((-116.182157993 49.0004573163, -116.1...         US-ID   \n",
       "1  POLYGON ((-116.182157993 49.0004573163, -116.1...         US-ID   \n",
       "2  POLYGON ((-116.182157993 49.0004573163, -116.1...         US-ID   \n",
       "\n",
       "  borderlatitude borderlongitude  bordergeohash  version         timetaken  \\\n",
       "0         49.001        -116.181        c2tqu0r        1         Below3_Hr   \n",
       "1         49.001        -116.181        c2tqu0r        1      Morethan_5Hr   \n",
       "2         49.001        -116.181        c2tqu0r        1  Between_3_to_5Hr   \n",
       "\n",
       "   whattime_day month  \n",
       "0     Afternoon   Jan  \n",
       "1       Evening   Jan  \n",
       "2     Afternoon   Jan  \n",
       "\n",
       "[3 rows x 22 columns]"
      ]
     },
     "execution_count": 444,
     "metadata": {},
     "output_type": "execute_result"
    }
   ],
   "source": [
    "df.head(3)"
   ]
  },
  {
   "cell_type": "code",
   "execution_count": 239,
   "metadata": {},
   "outputs": [
    {
     "data": {
      "text/plain": [
       "(100817, 21)"
      ]
     },
     "execution_count": 239,
     "metadata": {},
     "output_type": "execute_result"
    }
   ],
   "source": [
    "df.shape"
   ]
  },
  {
   "cell_type": "code",
   "execution_count": 481,
   "metadata": {},
   "outputs": [],
   "source": [
    "sr = df.whattime_day.value_counts()\n",
    "sr = sr.to_frame()\n",
    "sr = sr.reset_index()"
   ]
  },
  {
   "cell_type": "code",
   "execution_count": 482,
   "metadata": {},
   "outputs": [
    {
     "data": {
      "text/html": [
       "<div>\n",
       "<style scoped>\n",
       "    .dataframe tbody tr th:only-of-type {\n",
       "        vertical-align: middle;\n",
       "    }\n",
       "\n",
       "    .dataframe tbody tr th {\n",
       "        vertical-align: top;\n",
       "    }\n",
       "\n",
       "    .dataframe thead th {\n",
       "        text-align: right;\n",
       "    }\n",
       "</style>\n",
       "<table border=\"1\" class=\"dataframe\">\n",
       "  <thead>\n",
       "    <tr style=\"text-align: right;\">\n",
       "      <th></th>\n",
       "      <th>names</th>\n",
       "      <th>whattime_day</th>\n",
       "    </tr>\n",
       "  </thead>\n",
       "  <tbody>\n",
       "    <tr>\n",
       "      <td>0</td>\n",
       "      <td>Evening</td>\n",
       "      <td>37951</td>\n",
       "    </tr>\n",
       "    <tr>\n",
       "      <td>1</td>\n",
       "      <td>Afternoon</td>\n",
       "      <td>25442</td>\n",
       "    </tr>\n",
       "    <tr>\n",
       "      <td>2</td>\n",
       "      <td>Morning</td>\n",
       "      <td>19014</td>\n",
       "    </tr>\n",
       "    <tr>\n",
       "      <td>3</td>\n",
       "      <td>Midnight</td>\n",
       "      <td>18410</td>\n",
       "    </tr>\n",
       "  </tbody>\n",
       "</table>\n",
       "</div>"
      ],
      "text/plain": [
       "       names  whattime_day\n",
       "0    Evening         37951\n",
       "1  Afternoon         25442\n",
       "2    Morning         19014\n",
       "3   Midnight         18410"
      ]
     },
     "execution_count": 482,
     "metadata": {},
     "output_type": "execute_result"
    }
   ],
   "source": [
    "#df.whattime_day.value_counts().plot('pie')\n",
    "sr = sr.rename(columns = {'index'\n",
    "                          :'names'})\n",
    "sr\n",
    "#plt.pie(df['whattime_day'].value_counts(),labels=sr.names.values)"
   ]
  },
  {
   "cell_type": "code",
   "execution_count": 483,
   "metadata": {},
   "outputs": [],
   "source": [
    "sr = sr.rename(columns = {'index'\n",
    "                          :'names'})"
   ]
  },
  {
   "cell_type": "code",
   "execution_count": 484,
   "metadata": {},
   "outputs": [
    {
     "data": {
      "text/plain": [
       "array(['Evening', 'Afternoon', 'Morning', 'Midnight'], dtype=object)"
      ]
     },
     "execution_count": 484,
     "metadata": {},
     "output_type": "execute_result"
    }
   ],
   "source": [
    "sr.names.values"
   ]
  },
  {
   "cell_type": "code",
   "execution_count": 485,
   "metadata": {},
   "outputs": [
    {
     "data": {
      "image/png": "[encoded data removed]",
      "text/plain": [
       "<Figure size 432x288 with 1 Axes>"
      ]
     },
     "metadata": {},
     "output_type": "display_data"
    }
   ],
   "source": [
    "#lis = df.whattime_day.unique()\n",
    "labels = sr.names.values\n",
    "sizes = df.whattime_day.value_counts(ascending=False)\n",
    "explode = (0.1, 0, 0, 0)  # only \"explode\" the 2nd slice (i.e. 'Hogs')\n",
    "\n",
    "fig1, ax1 = plt.subplots()\n",
    "ax1.pie(sizes, explode=explode, labels=labels, autopct='%1.1f%%',\n",
    "        shadow=True, startangle=90)\n",
    "ax1.axis('equal')  # Equal aspect ratio ensures that pie is drawn as a circle.\n",
    "\n",
    "plt.show()"
   ]
  },
  {
   "cell_type": "code",
   "execution_count": 314,
   "metadata": {},
   "outputs": [
    {
     "data": {
      "text/plain": [
       "'2020-02-18'"
      ]
     },
     "execution_count": 314,
     "metadata": {},
     "output_type": "execute_result"
    }
   ],
   "source": [
    "df.utc_date[1200]"
   ]
  },
  {
   "cell_type": "code",
   "execution_count": 353,
   "metadata": {},
   "outputs": [],
   "source": [
    "def utc_month(x):\n",
    "    if x.split('-')[1] == '01':\n",
    "        return 'Jan'\n",
    "    elif x.split('-')[1] == '02':\n",
    "        return 'Feb'\n",
    "    elif x.split('-')[1] == '03':\n",
    "        return 'March'\n",
    "    elif x.split('-')[1] == '04':\n",
    "        return 'April'\n",
    "    elif x.split('-')[1] == '05':\n",
    "        return 'May'\n",
    "    elif x.split('-')[1] == '12':\n",
    "        return 'Dec'\n",
    "    else:\n",
    "        y = x.split('-')[1]\n",
    "        return y"
   ]
  },
  {
   "cell_type": "code",
   "execution_count": 358,
   "metadata": {},
   "outputs": [],
   "source": [
    "df['month'] = df.localdate.apply(lambda x: utc_month(x))"
   ]
  },
  {
   "cell_type": "code",
   "execution_count": 359,
   "metadata": {},
   "outputs": [
    {
     "data": {
      "text/plain": [
       "Jan      33602\n",
       "March    33522\n",
       "Feb      30599\n",
       "April     3094\n",
       "Name: month, dtype: int64"
      ]
     },
     "execution_count": 359,
     "metadata": {},
     "output_type": "execute_result"
    }
   ],
   "source": [
    "df.month.value_counts()"
   ]
  },
  {
   "cell_type": "code",
   "execution_count": 489,
   "metadata": {},
   "outputs": [],
   "source": [
    "sr = df.month.value_counts()\n",
    "sr = sr.to_frame()\n",
    "sr = sr.reset_index()\n",
    "sr = sr.rename(columns = {'index'\n",
    "                          :'names'})"
   ]
  },
  {
   "cell_type": "code",
   "execution_count": 491,
   "metadata": {},
   "outputs": [
    {
     "data": {
      "image/png": "[encoded data removed]",
      "text/plain": [
       "<Figure size 432x288 with 1 Axes>"
      ]
     },
     "metadata": {},
     "output_type": "display_data"
    }
   ],
   "source": [
    "labels = sr.names.values\n",
    "sizes = df.month.value_counts(ascending=False)\n",
    "explode = (0, 0, 0, 0)  # only \"explode\" the 2nd slice (i.e. 'Hogs')\n",
    "\n",
    "fig1, ax1 = plt.subplots()\n",
    "ax1.pie(sizes, explode=explode, labels=labels, autopct='%1.1f%%',\n",
    "        shadow=True, startangle=90)\n",
    "ax1.axis('equal')  # Equal aspect ratio ensures that pie is drawn as a circle.\n",
    "\n",
    "plt.show()"
   ]
  },
  {
   "cell_type": "code",
   "execution_count": 364,
   "metadata": {},
   "outputs": [
    {
     "data": {
      "text/plain": [
       "tripdirection  month  month\n",
       "Canada to US   April  April     1558\n",
       "               Feb    Feb      15206\n",
       "               Jan    Jan      16731\n",
       "               March  March    16688\n",
       "US to Canada   April  April     1536\n",
       "               Feb    Feb      15393\n",
       "               Jan    Jan      16871\n",
       "               March  March    16834\n",
       "Name: month, dtype: int64"
      ]
     },
     "execution_count": 364,
     "metadata": {},
     "output_type": "execute_result"
    }
   ],
   "source": [
    "df.groupby(['tripdirection','month'])['month'].value_counts()"
   ]
  },
  {
   "cell_type": "code",
   "execution_count": 458,
   "metadata": {},
   "outputs": [
    {
     "data": {
      "text/plain": [
       "<matplotlib.axes._subplots.AxesSubplot at 0x19a0a1775c8>"
      ]
     },
     "execution_count": 458,
     "metadata": {},
     "output_type": "execute_result"
    },
    {
     "data": {
      "text/plain": [
       "<Figure size 720x720 with 0 Axes>"
      ]
     },
     "metadata": {},
     "output_type": "display_data"
    },
    {
     "data": {
      "image/png": "[encoded data removed]",
      "text/plain": [
       "<Figure size 576x360 with 1 Axes>"
      ]
     },
     "metadata": {
      "needs_background": "light"
     },
     "output_type": "display_data"
    }
   ],
   "source": [
    "freq_df = df.groupby(['tripdirection'])['month'].value_counts().unstack()\n",
    "plt.figure(figsize=(10,10))\n",
    "my_colors = 'rgbymc'\n",
    "palette = {\"Jan\":'C0',\"Feb\":\"C1\",\"March\":\"C2\",\"April\":\"C3\"}\n",
    "pct_df = freq_df.divide(freq_df.sum(axis=1), axis=0)\n",
    "pct_df = pct_df.mul(100)\n",
    "pct_df.plot(kind=\"bar\", stacked=False,figsize=(8,5),rot=0,title='People travelled across')"
   ]
  },
  {
   "cell_type": "code",
   "execution_count": 409,
   "metadata": {},
   "outputs": [
    {
     "data": {
      "text/plain": [
       "array(['Below3_Hr', 'Morethan_5Hr', 'Between_3_to_5Hr'], dtype=object)"
      ]
     },
     "execution_count": 409,
     "metadata": {},
     "output_type": "execute_result"
    }
   ],
   "source": [
    "df.timetaken.unique()"
   ]
  },
  {
   "cell_type": "code",
   "execution_count": 500,
   "metadata": {},
   "outputs": [],
   "source": [
    "df_port = df[df['timetaken'] == 'Morethan_5Hr']"
   ]
  },
  {
   "cell_type": "code",
   "execution_count": 501,
   "metadata": {},
   "outputs": [
    {
     "data": {
      "text/plain": [
       "(61655, 23)"
      ]
     },
     "execution_count": 501,
     "metadata": {},
     "output_type": "execute_result"
    }
   ],
   "source": [
    "df_port.shape"
   ]
  },
  {
   "cell_type": "code",
   "execution_count": 442,
   "metadata": {},
   "outputs": [
    {
     "data": {
      "text/plain": [
       "<matplotlib.axes._subplots.AxesSubplot at 0x19a087d6388>"
      ]
     },
     "execution_count": 442,
     "metadata": {},
     "output_type": "execute_result"
    },
    {
     "data": {
      "image/png": "[encoded data removed]",
      "text/plain": [
       "<Figure size 432x288 with 1 Axes>"
      ]
     },
     "metadata": {
      "needs_background": "light"
     },
     "output_type": "display_data"
    }
   ],
   "source": [
    "df_port['canadaport'].value_counts().head(10).plot(kind='bar',)"
   ]
  },
  {
   "cell_type": "code",
   "execution_count": 463,
   "metadata": {},
   "outputs": [
    {
     "data": {
      "text/plain": [
       "<matplotlib.axes._subplots.AxesSubplot at 0x19a0a5b6488>"
      ]
     },
     "execution_count": 463,
     "metadata": {},
     "output_type": "execute_result"
    },
    {
     "data": {
      "text/plain": [
       "<Figure size 720x720 with 0 Axes>"
      ]
     },
     "metadata": {},
     "output_type": "display_data"
    },
    {
     "data": {
      "image/png": "[encoded data removed]",
      "text/plain": [
       "<Figure size 576x504 with 1 Axes>"
      ]
     },
     "metadata": {
      "needs_background": "light"
     },
     "output_type": "display_data"
    }
   ],
   "source": [
    "freq_df = df_port.groupby(['canadaport','month'])['timetaken'].value_counts().head(10).unstack(0)\n",
    "plt.figure(figsize=(10,10))\n",
    "my_colors = 'rgbymc'\n",
    "#palette = {\"Jan\":'C0',\"Feb\":\"C1\",\"March\":\"C2\",\"April\":\"C3\"}\n",
    "pct_df = freq_df.divide(freq_df.sum(axis=1), axis=0)\n",
    "pct_df = pct_df.mul(100)\n",
    "pct_df.plot(kind=\"bar\", stacked=False,figsize=(8,7),rot=0,title='Various airports in different months')"
   ]
  },
  {
   "cell_type": "code",
   "execution_count": null,
   "metadata": {},
   "outputs": [],
   "source": []
  },
  {
   "cell_type": "code",
   "execution_count": 424,
   "metadata": {},
   "outputs": [
    {
     "data": {
      "text/plain": [
       "<matplotlib.axes._subplots.AxesSubplot at 0x19a070c02c8>"
      ]
     },
     "execution_count": 424,
     "metadata": {},
     "output_type": "execute_result"
    },
    {
     "data": {
      "image/png": "[encoded data removed]",
      "text/plain": [
       "<Figure size 432x288 with 1 Axes>"
      ]
     },
     "metadata": {
      "needs_background": "light"
     },
     "output_type": "display_data"
    }
   ],
   "source": [
    "df_port['americaport'].value_counts().head(10).plot(kind='bar')"
   ]
  },
  {
   "cell_type": "code",
   "execution_count": 508,
   "metadata": {},
   "outputs": [
    {
     "data": {
      "text/plain": [
       "<matplotlib.axes._subplots.AxesSubplot at 0x19a0e8dde48>"
      ]
     },
     "execution_count": 508,
     "metadata": {},
     "output_type": "execute_result"
    },
    {
     "data": {
      "text/plain": [
       "<Figure size 720x720 with 0 Axes>"
      ]
     },
     "metadata": {},
     "output_type": "display_data"
    },
    {
     "data": {
      "image/png": "[encoded data removed]",
      "text/plain": [
       "<Figure size 576x504 with 1 Axes>"
      ]
     },
     "metadata": {
      "needs_background": "light"
     },
     "output_type": "display_data"
    }
   ],
   "source": [
    "freq_df = df_port.groupby(['americaport','month'])['timetaken'].value_counts().head(10).unstack(0)\n",
    "plt.figure(figsize=(10,10))\n",
    "my_colors = 'rgbymc'\n",
    "#palette = {\"Jan\":'C0',\"Feb\":\"C1\",\"March\":\"C2\",\"April\":\"C3\"}\n",
    "pct_df = freq_df.divide(freq_df.sum(axis=1), axis=0)\n",
    "pct_df = pct_df.mul(100)\n",
    "pct_df.plot(kind=\"bar\", stacked=False,figsize=(8,7),rot=0,title='Various airports in US in different months')"
   ]
  },
  {
   "cell_type": "code",
   "execution_count": 493,
   "metadata": {},
   "outputs": [
    {
     "data": {
      "text/plain": [
       "'2020-01-01'"
      ]
     },
     "execution_count": 493,
     "metadata": {},
     "output_type": "execute_result"
    }
   ],
   "source": [
    "df.utc_date[0]"
   ]
  },
  {
   "cell_type": "code",
   "execution_count": 496,
   "metadata": {},
   "outputs": [],
   "source": [
    "def utc_week(x):\n",
    "    a = x.split('-')[2]\n",
    "    a = int(a)\n",
    "    if 1<= a <=7:\n",
    "        return 'Week1'\n",
    "    elif 7 <a<=14:\n",
    "        return 'Week2'\n",
    "    elif 14 <a<=21:\n",
    "        return 'Week3'\n",
    "    else:\n",
    "        return 'Week4'\n",
    "\n",
    "df['week'] = df.utc_date.apply(lambda x: utc_week(x))"
   ]
  },
  {
   "cell_type": "code",
   "execution_count": 498,
   "metadata": {},
   "outputs": [
    {
     "data": {
      "text/plain": [
       "Week4    30137\n",
       "Week1    25523\n",
       "Week3    22592\n",
       "Week2    22565\n",
       "Name: week, dtype: int64"
      ]
     },
     "execution_count": 498,
     "metadata": {},
     "output_type": "execute_result"
    }
   ],
   "source": [
    "df.week.value_counts()"
   ]
  },
  {
   "cell_type": "code",
   "execution_count": null,
   "metadata": {},
   "outputs": [],
   "source": [
    "df_usport = df[df['timetaken'] == 'Morethan_5Hr']"
   ]
  },
  {
   "cell_type": "code",
   "execution_count": 514,
   "metadata": {},
   "outputs": [
    {
     "data": {
      "text/plain": [
       "<matplotlib.axes._subplots.AxesSubplot at 0x19a0f971808>"
      ]
     },
     "execution_count": 514,
     "metadata": {},
     "output_type": "execute_result"
    },
    {
     "data": {
      "text/plain": [
       "<Figure size 720x720 with 0 Axes>"
      ]
     },
     "metadata": {},
     "output_type": "display_data"
    },
    {
     "data": {
      "image/png": "[encoded data removed]",
      "text/plain": [
       "<Figure size 648x576 with 1 Axes>"
      ]
     },
     "metadata": {
      "needs_background": "light"
     },
     "output_type": "display_data"
    }
   ],
   "source": [
    "freq_df = df_port.groupby(['week','month'])['timetaken'].value_counts().unstack(0)\n",
    "plt.figure(figsize=(10,10))\n",
    "my_colors = 'rgbymc'\n",
    "#palette = {\"Jan\":'C0',\"Feb\":\"C1\",\"March\":\"C2\",\"April\":\"C3\"}\n",
    "pct_df = freq_df.divide(freq_df.sum(axis=1), axis=0)\n",
    "pct_df = pct_df.mul(100)\n",
    "pct_df.plot(kind=\"bar\", stacked=False,figsize=(9,8),rot=0,title='Time taken in various weeks in diff months')"
   ]
  },
  {
   "cell_type": "code",
   "execution_count": 241,
   "metadata": {},
   "outputs": [
    {
     "data": {
      "text/plain": [
       "Index(['borderid', 'canadaport', 'americaport', 'tripdirection', 'localhour',\n",
       "       'localdate', 'daytype', 'utc_date', 'utc_hour', 'averageduration',\n",
       "       'aggregationmethod', 'canadaborderzone', 'can_iso_3166_2',\n",
       "       'americaborderzone', 'us_iso_3166_2', 'borderlatitude',\n",
       "       'borderlongitude', 'bordergeohash', 'version', 'timetaken',\n",
       "       'whattime_day'],\n",
       "      dtype='object')"
      ]
     },
     "execution_count": 241,
     "metadata": {},
     "output_type": "execute_result"
    }
   ],
   "source": [
    "df.columns"
   ]
  },
  {
   "cell_type": "code",
   "execution_count": null,
   "metadata": {},
   "outputs": [],
   "source": []
  }
 ],
 "metadata": {
  "kernelspec": {
   "display_name": "Python 3",
   "language": "python",
   "name": "python3"
  },
  "language_info": {
   "codemirror_mode": {
    "name": "ipython",
    "version": 3
   },
   "file_extension": ".py",
   "mimetype": "text/x-python",
   "name": "python",
   "nbconvert_exporter": "python",
   "pygments_lexer": "ipython3",
   "version": "3.7.4"
  }
 },
 "nbformat": 4,
 "nbformat_minor": 2
}
